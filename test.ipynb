{
 "cells": [
  {
   "cell_type": "code",
   "execution_count": 9,
   "id": "6618c04e-6f1a-4f10-b48f-67ec00ae6b0a",
   "metadata": {},
   "outputs": [
    {
     "name": "stdout",
     "output_type": "stream",
     "text": [
      "Hi! It's nice to meet you. Is there something I can help you with, or would you like to chat?\n"
     ]
    }
   ],
   "source": [
    "import { Ollama } from \"@langchain/community/llms/ollama\";\n",
    "\n",
    "const ollama = new Ollama({\n",
    "  baseUrl: \"http://localhost:11434\", \n",
    "  model: \"llama3\", \n",
    "});\n",
    "\n",
    "\n",
    "const res = await ollama.invoke(\"hi\")\n",
    "console.log(res)"
   ]
  }
 ],
 "metadata": {
  "kernelspec": {
   "display_name": "Deno",
   "language": "typescript",
   "name": "deno"
  },
  "language_info": {
   "codemirror_mode": "typescript",
   "file_extension": ".ts",
   "mimetype": "text/x.typescript",
   "name": "typescript",
   "nbconvert_exporter": "script",
   "pygments_lexer": "typescript",
   "version": "5.4.5"
  }
 },
 "nbformat": 4,
 "nbformat_minor": 5
}
