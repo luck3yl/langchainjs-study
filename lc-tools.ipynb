{
 "cells": [
  {
   "cell_type": "code",
   "execution_count": 13,
   "id": "695764c0-419e-4b4f-a877-1abe1d41e920",
   "metadata": {},
   "outputs": [
    {
     "data": {
      "text/plain": [
       "{\n",
       "  type: \u001b[32m\"object\"\u001b[39m,\n",
       "  properties: {\n",
       "    location: {\n",
       "      type: \u001b[32m\"string\"\u001b[39m,\n",
       "      description: \u001b[32m\"The city and state, e.g. San Francisco, CA\"\u001b[39m\n",
       "    },\n",
       "    unit: {\n",
       "      type: \u001b[32m\"string\"\u001b[39m,\n",
       "      enum: [ \u001b[32m\"celsius\"\u001b[39m, \u001b[32m\"fahrenheit\"\u001b[39m ],\n",
       "      description: \u001b[32m\"The unit of temperature\"\u001b[39m\n",
       "    }\n",
       "  },\n",
       "  required: [ \u001b[32m\"location\"\u001b[39m, \u001b[32m\"unit\"\u001b[39m ],\n",
       "  additionalProperties: \u001b[33mfalse\u001b[39m,\n",
       "  \u001b[32m\"$schema\"\u001b[39m: \u001b[32m\"http://json-schema.org/draft-07/schema#\"\u001b[39m\n",
       "}"
      ]
     },
     "execution_count": 13,
     "metadata": {},
     "output_type": "execute_result"
    }
   ],
   "source": [
    "import { zodToJsonSchema } from \"zod-to-json-schema\";\n",
    "import { z } from \"zod\";\n",
    "const getCurrentWeatherSchema = z.object({\n",
    "    location: z.string().describe(\"The city and state, e.g. San Francisco, CA\"),\n",
    "    unit: z.enum([\"celsius\", \"fahrenheit\"]).describe(\"The unit of temperature\"),\n",
    "})\n",
    "\n",
    "const paramSchema = zodToJsonSchema(getCurrentWeatherSchema)\n",
    "paramSchema"
   ]
  },
  {
   "cell_type": "code",
   "execution_count": null,
   "id": "684f2337-ebf4-4933-8435-26b53aefa066",
   "metadata": {},
   "outputs": [
    {
     "ename": "SyntaxError",
     "evalue": "Invalid shorthand property initializer",
     "output_type": "error",
     "traceback": [
      "Stack trace:",
      "SyntaxError: Invalid shorthand property initializer"
     ]
    }
   ],
   "source": [
    "// import { Ollama } from \"@langchain/community/llms/ollama\";\n",
    "import { ChatOpenAI } from \"@langchain/openai\"\n",
    "const model = new ChatOpenAI({\n",
    "    temperature: 0 \n",
    "})\n",
    "\n",
    "const modelWithTools = model.bind({\n",
    "    tools: [\n",
    "        {\n",
    "            type: \"function\",\n",
    "            function: {\n",
    "                name: \"getCurrentWeather\",\n",
    "                description: \"Get the current weather in a given location\",\n",
    "                parameters: zodToJsonSchema(getCurrentWeatherSchema),\n",
    "            }\n",
    "        }\n",
    "    ]\n",
    "})\n",
    "\n",
    "await modelWithTools.invoke(\"北京的天气怎么样\");"
   ]
  },
  {
   "cell_type": "code",
   "execution_count": 18,
   "id": "7cf9bf59-29ab-4dba-9d4d-357f8855f404",
   "metadata": {},
   "outputs": [
    {
     "ename": "Error",
     "evalue": "Connection error.",
     "output_type": "error",
     "traceback": [
      "Stack trace:",
      "Error: Connection error.",
      "    at OpenAI.makeRequest (file:///Users/yyl/Library/Caches/deno/npm/registry.npmjs.org/openai/4.51.0/core.mjs:297:19)",
      "    at eventLoopTick (ext:core/01_core.js:168:7)",
      "    at async file:///Users/yyl/Library/Caches/deno/npm/registry.npmjs.org/@langchain/openai/0.0.22/dist/chat_models.js:668:29",
      "    at async RetryOperation._fn (file:///Users/yyl/Library/Caches/deno/npm/registry.npmjs.org/p-retry/4.6.2/index.js:50:12)"
     ]
    }
   ],
   "source": [
    "import { ChatPromptTemplate } from \"@langchain/core/prompts\";\n",
    "\n",
    "const prompt = ChatPromptTemplate.fromMessages([\n",
    "    [\"system\", \"You are a helpful assistant\"],\n",
    "    [\"human\", \"{input}\"]\n",
    "])\n",
    "\n",
    "const chain = prompt.pipe(modelWithTools)\n",
    "\n",
    "await chain.invoke({\n",
    "    input: \"北京的天气怎么样\"\n",
    "})"
   ]
  },
  {
   "cell_type": "code",
   "execution_count": 19,
   "id": "2b76b5cb-ec7a-4a05-80ff-d7b98adefe81",
   "metadata": {},
   "outputs": [
    {
     "data": {
      "text/plain": [
       "{\n",
       "  type: \u001b[32m\"object\"\u001b[39m,\n",
       "  properties: {\n",
       "    format: {\n",
       "      type: \u001b[32m\"string\"\u001b[39m,\n",
       "      enum: [ \u001b[32m\"iso\"\u001b[39m, \u001b[32m\"local\"\u001b[39m, \u001b[32m\"string\"\u001b[39m ],\n",
       "      description: \u001b[32m\"The format of the time, e.g. iso, locale, string\"\u001b[39m\n",
       "    }\n",
       "  },\n",
       "  additionalProperties: \u001b[33mfalse\u001b[39m,\n",
       "  \u001b[32m\"$schema\"\u001b[39m: \u001b[32m\"http://json-schema.org/draft-07/schema#\"\u001b[39m\n",
       "}"
      ]
     },
     "execution_count": 19,
     "metadata": {},
     "output_type": "execute_result"
    }
   ],
   "source": [
    "const getCurrentTimeSchema = z.object({\n",
    "    format: z\n",
    "        .enum([\"iso\", \"local\", \"string\"])\n",
    "        .optional()\n",
    "        .describe(\"The format of the time, e.g. iso, locale, string\")\n",
    "})\n",
    "zodToJsonSchema(getCurrentTimeSchema)"
   ]
  },
  {
   "cell_type": "code",
   "execution_count": 20,
   "id": "5164410d-f570-46b9-8e1e-419098eb41a4",
   "metadata": {},
   "outputs": [
    {
     "ename": "Error",
     "evalue": "Connection error.",
     "output_type": "error",
     "traceback": [
      "Stack trace:",
      "Error: Connection error.",
      "    at OpenAI.makeRequest (file:///Users/yyl/Library/Caches/deno/npm/registry.npmjs.org/openai/4.51.0/core.mjs:297:19)",
      "    at eventLoopTick (ext:core/01_core.js:168:7)",
      "    at async file:///Users/yyl/Library/Caches/deno/npm/registry.npmjs.org/@langchain/openai/0.0.22/dist/chat_models.js:668:29",
      "    at async RetryOperation._fn (file:///Users/yyl/Library/Caches/deno/npm/registry.npmjs.org/p-retry/4.6.2/index.js:50:12)"
     ]
    }
   ],
   "source": [
    "import { JsonOutputToolsParser } from \"@langchain/core/output_parsers/openai_tools\"\n",
    "const taggingSchema = z.object({\n",
    "    emotion: z.enum([\"pos\", \"neg\", \"neutral\"]).describe(\"文本的情感\"),\n",
    "    language: z.string().describe(\"文本的核心语言（应为ISO 639-1代码）\")\n",
    "})\n",
    "const model = new ChatOpenAI({\n",
    "    temperature: 0 \n",
    "})\n",
    "\n",
    "const modelTagging = model.bind({\n",
    "    tools: [\n",
    "        {\n",
    "            type: \"function\",\n",
    "            function: {\n",
    "                name: \"tagging\",\n",
    "                description: \"为特定的文本片段打上标签\",\n",
    "                parameters: zodToJsonSchema(taggingSchema)\n",
    "            }\n",
    "        }\n",
    "    ],\n",
    "    tool_choice: {\n",
    "        type: \"function\",\n",
    "        function: {\n",
    "           name: \"tagging\"\n",
    "        }\n",
    "    }\n",
    "})\n",
    "\n",
    "const prompt = ChatPromptTemplate.fromMessages([\n",
    "    [\"system\", \"仔细思考， 你有充足的时间进行严谨的思考， 然后按照指示对文本进行标记\"],\n",
    "    [\"human\", \"{input}\"]\n",
    "])\n",
    "const chain = prompt.pipe(modelTagging).pipe(new JsonOutputToolsParser())\n",
    "await chain.invoke({\n",
    "    input: \"hello world\"\n",
    "})"
   ]
  },
  {
   "cell_type": "code",
   "execution_count": null,
   "id": "01c918e1-de7b-4275-b06f-c465705d44f0",
   "metadata": {},
   "outputs": [],
   "source": []
  }
 ],
 "metadata": {
  "kernelspec": {
   "display_name": "Deno",
   "language": "typescript",
   "name": "deno"
  },
  "language_info": {
   "codemirror_mode": "typescript",
   "file_extension": ".ts",
   "mimetype": "text/x.typescript",
   "name": "typescript",
   "nbconvert_exporter": "script",
   "pygments_lexer": "typescript",
   "version": "5.4.5"
  }
 },
 "nbformat": 4,
 "nbformat_minor": 5
}
