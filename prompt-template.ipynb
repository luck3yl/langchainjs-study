{
 "cells": [
  {
   "cell_type": "code",
   "execution_count": 8,
   "metadata": {},
   "outputs": [
    {
     "name": "stdout",
     "output_type": "stream",
     "text": [
      "hello world\n"
     ]
    }
   ],
   "source": [
    "import { PromptTemplate } from \"@langchain/core/prompts\";\n",
    "\n",
    "const greetingPrompt = new PromptTemplate({\n",
    "  inputVariables: [],\n",
    "  template: \"hello world\",\n",
    "});\n",
    "const formattedGreetingPrompt = await greetingPrompt.format();\n",
    "\n",
    "console.log(formattedGreetingPrompt);\n"
   ]
  },
  {
   "cell_type": "code",
   "execution_count": 9,
   "metadata": {},
   "outputs": [
    {
     "name": "stdout",
     "output_type": "stream",
     "text": [
      "hello,yyl\n"
     ]
    }
   ],
   "source": [
    "import { PromptTemplate } from \"@langchain/core/prompts\";\n",
    "\n",
    "const greetingPrompt = new PromptTemplate({\n",
    "  inputVariables: [\"name\"],\n",
    "  template: \"hello,{name}\",\n",
    "});\n",
    "const formattedGreetingPrompt = await greetingPrompt.format({\n",
    "    name: 'yyl'\n",
    "});\n",
    "\n",
    "console.log(formattedGreetingPrompt);\n"
   ]
  },
  {
   "cell_type": "code",
   "execution_count": 10,
   "metadata": {},
   "outputs": [
    {
     "name": "stdout",
     "output_type": "stream",
     "text": [
      "good morning, yyl\n"
     ]
    }
   ],
   "source": [
    "const autoInterTemplate = PromptTemplate.fromTemplate(\"good {timeOfDay}, {name}\")\n",
    "console.log(autoInterTemplate.inputVariables);\n",
    "\n",
    "const formattedAutoInferTemplate = await autoInterTemplate.format({\n",
    "    timeOfDay: \"morning\",\n",
    "    name: \"yyl\",\n",
    "})\n",
    "console.log(formattedAutoInferTemplate)"
   ]
  },
  {
   "cell_type": "code",
   "execution_count": 11,
   "metadata": {},
   "outputs": [
    {
     "name": "stdout",
     "output_type": "stream",
     "text": [
      "this is a type of flower, it is Peony\n"
     ]
    }
   ],
   "source": [
    "// 使用部分参数创建 template\n",
    "const initialPrompt = new PromptTemplate({\n",
    "    template: \"this is a type of {type}, it is {item}\",\n",
    "    inputVariables: ['type', 'item'],\n",
    "})\n",
    "\n",
    "const partialedPrompt = await initialPrompt.partial({\n",
    "    type: \"flower\"\n",
    "})\n",
    "const formattedPrompt = await partialedPrompt.format({\n",
    "    item: \"rose\"\n",
    "})\n",
    "console.log(formattedPrompt)\n",
    "\n",
    "const formattedPrompt2 = await partialedPrompt.format({\n",
    "    item: \"Peony\"\n",
    "})\n",
    "console.log(formattedPrompt2)"
   ]
  },
  {
   "cell_type": "code",
   "execution_count": 12,
   "metadata": {},
   "outputs": [
    {
     "name": "stdout",
     "output_type": "stream",
     "text": [
      "today is 8/25/2024, let's go to cafe\n"
     ]
    }
   ],
   "source": [
    "// 使用动态填充参数\n",
    "const getCurrentDateStr = () => {\n",
    "    return new Date().toLocaleDateString()\n",
    "}\n",
    "\n",
    "const promptWithDate = new PromptTemplate({\n",
    "    template: \"today is {date}, {activity}\",\n",
    "    inputVariables: [\"date\", \"activity\"]\n",
    "})\n",
    "\n",
    "const partialedPromptWithDate = await promptWithDate.partial({\n",
    "    date: getCurrentDateStr,\n",
    "})\n",
    "\n",
    "const formattedPromptWithDate = await partialedPromptWithDate.format({\n",
    "    activity: \"let's go to cafe\"\n",
    "})\n",
    "console.log(formattedPromptWithDate);"
   ]
  },
  {
   "cell_type": "code",
   "execution_count": 16,
   "metadata": {},
   "outputs": [
    {
     "name": "stdout",
     "output_type": "stream",
     "text": [
      "8/25/2024 good afternoon!\n"
     ]
    }
   ],
   "source": [
    "const getCurrentDateStr = () => {\n",
    "    return new Date().toLocaleDateString()\n",
    "}\n",
    "\n",
    "function generateGreeting(timeOfDay) {\n",
    "    return () => {\n",
    "        const date = getCurrentDateStr()\n",
    "        switch(timeOfDay){\n",
    "            case 'morning':\n",
    "                return date + ' good morning';\n",
    "            case 'afternoon':\n",
    "                return date + ' good afternoon';\n",
    "            case 'evening':\n",
    "                return date + ' good evening';\n",
    "            default: \n",
    "                return date + ' hello'\n",
    "        }\n",
    "    }\n",
    "}\n",
    "const prompt = new PromptTemplate({\n",
    "    template: \"{greeting}!\",\n",
    "    inputVariables: [\"greeting\"]\n",
    "})\n",
    "const currentTimeOfDay = 'afternoon'\n",
    "const partialedPrompt = await prompt.partial({\n",
    "    greeting: generateGreeting(currentTimeOfDay)\n",
    "})\n",
    "const formattedPrompt = await partialedPrompt.format();\n",
    "console.log(formattedPrompt);\n"
   ]
  },
  {
   "cell_type": "code",
   "execution_count": 35,
   "metadata": {},
   "outputs": [
    {
     "name": "stdout",
     "output_type": "stream",
     "text": [
      "[\n",
      "  SystemMessage {\n",
      "    lc_serializable: true,\n",
      "    lc_kwargs: {\n",
      "      content: \"你是一个专\\n业的翻译员，你的任务是将文本从Chinese翻译成English。\",\n",
      "      additional_kwargs: {},\n",
      "      response_metadata: {}\n",
      "    },\n",
      "    lc_namespace: [ \"langchain_core\", \"messages\" ],\n",
      "    content: \"你是一个专\\n业的翻译员，你的任务是将文本从Chinese翻译成English。\",\n",
      "    name: undefined,\n",
      "    additional_kwargs: {},\n",
      "    response_metadata: {}\n",
      "  },\n",
      "  HumanMessage {\n",
      "    lc_serializable: true,\n",
      "    lc_kwargs: {\n",
      "      content: \"请翻译这句话：你好\",\n",
      "      additional_kwargs: {},\n",
      "      response_metadata: {}\n",
      "    },\n",
      "    lc_namespace: [ \"langchain_core\", \"messages\" ],\n",
      "    content: \"请翻译这句话：你好\",\n",
      "    name: undefined,\n",
      "    additional_kwargs: {},\n",
      "    response_metadata: {}\n",
      "  }\n",
      "]\n"
     ]
    },
    {
     "ename": "",
     "evalue": "",
     "output_type": "error",
     "traceback": [
      "\u001b[1;31m在当前单元格或上一个单元格中执行代码时 Kernel 崩溃。\n",
      "\u001b[1;31m请查看单元格中的代码，以确定故障的可能原因。\n",
      "\u001b[1;31m单击<a href='https://aka.ms/vscodeJupyterKernelCrash'>此处</a>了解详细信息。\n",
      "\u001b[1;31m有关更多详细信息，请查看 Jupyter <a href='command:jupyter.viewOutput'>log</a>。"
     ]
    }
   ],
   "source": [
    "import { SystemMessagePromptTemplate } from \"@langchain/core/prompts\";\n",
    "\n",
    "const translateInstructionTemplate = SystemMessagePromptTemplate.fromTemplate(`你是一个专\n",
    "业的翻译员，你的任务是将文本从{source_lang}翻译成{target_lang}。`);\n",
    "\n",
    "\n",
    "\n",
    "import { HumanMessagePromptTemplate } from \"@langchain/core/prompts\";\n",
    "const userQuestionTemplate = HumanMessagePromptTemplate.fromTemplate(\"请翻译这句话：{text}\")\n",
    "\n",
    "import { ChatPromptTemplate} from \"@langchain/core/prompts\";\n",
    "const chatPrompt = ChatPromptTemplate.fromMessages([\n",
    "    translateInstructionTemplate,\n",
    "    userQuestionTemplate\n",
    "])\n",
    "const formattedChatPrompt = await chatPrompt.formatMessages({\n",
    "    source_lang: \"Chinese\",\n",
    "    target_lang: \"English\",\n",
    "    text: '你好'\n",
    "})\n",
    "console.log(formattedChatPrompt);\n"
   ]
  },
  {
   "cell_type": "code",
   "execution_count": 1,
   "metadata": {},
   "outputs": [
    {
     "name": "stdout",
     "output_type": "stream",
     "text": [
      "你是一个智能管家，今天是 8/25/2024, 现在是 morning，你的主人的信息是姓名是 yyl, 性别是 male, \n",
      "根据上下文，完成主人的需求 \n",
      "    我想吃 morning 的 lemon。 \n",
      "    再重复一遍我的信息 姓名是 yyl, 性别是 male\n",
      "\n",
      "\n"
     ]
    }
   ],
   "source": [
    "// 组合多个 Prompt\n",
    "import { PromptTemplate, PipelinePromptTemplate } from \"@langchain/core/prompts\"\n",
    "const getCurrentDateStr = () => {\n",
    "    return new Date().toLocaleDateString()\n",
    "}\n",
    "const fullPrompt = PromptTemplate.fromTemplate(`你是一个智能管家，今天是 {date}，你的主人的信息是{info}, \n",
    "根据上下文，完成主人的需求 {task}\n",
    "`)\n",
    "\n",
    "const datePrompt =  PromptTemplate.fromTemplate(\"{date}, 现在是 {period}\")\n",
    "const periodPrompt = await datePrompt.partial({\n",
    "    date: getCurrentDateStr\n",
    "})\n",
    "const infoPrompt = PromptTemplate.fromTemplate(\"姓名是 {name}, 性别是 {gender}\")\n",
    "const taskPrompt = PromptTemplate.fromTemplate(`\n",
    "    我想吃 {period} 的 {food}。 \n",
    "    再重复一遍我的信息 {info}\n",
    "`)\n",
    "const composedPrompt = new PipelinePromptTemplate({\n",
    "    pipelinePrompts: [\n",
    "        {\n",
    "            name: \"date\",\n",
    "            prompt: periodPrompt,\n",
    "        },\n",
    "        {\n",
    "            name: \"info\",\n",
    "            prompt: infoPrompt,\n",
    "        },\n",
    "        {\n",
    "            name: \"task\",\n",
    "            prompt: taskPrompt\n",
    "        }\n",
    "    ],\n",
    "    finalPrompt: fullPrompt,\n",
    "})\n",
    "const formattedPrompt = await composedPrompt.format({\n",
    "    period: \"morning\",\n",
    "    name: \"yyl\",\n",
    "    gender: \"male\",\n",
    "    food: \"lemon\"\n",
    "})\n",
    "console.log(formattedPrompt);"
   ]
  }
 ],
 "metadata": {
  "kernelspec": {
   "display_name": "Deno",
   "language": "typescript",
   "name": "deno"
  },
  "language_info": {
   "codemirror_mode": "typescript",
   "file_extension": ".ts",
   "mimetype": "text/x.typescript",
   "name": "typescript",
   "nbconvert_exporter": "script",
   "pygments_lexer": "typescript",
   "version": "5.4.5"
  }
 },
 "nbformat": 4,
 "nbformat_minor": 2
}
