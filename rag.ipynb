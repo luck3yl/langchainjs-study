{
 "cells": [
  {
   "cell_type": "code",
   "execution_count": 1,
   "metadata": {},
   "outputs": [
    {
     "data": {
      "text/plain": [
       "[\n",
       "  Document {\n",
       "    pageContent: \u001b[32m\"三体前传：球状闪电 作者：刘慈欣\\n\"\u001b[39m +\n",
       "      \u001b[32m\"\\n\"\u001b[39m +\n",
       "      \u001b[32m\"内容简介：\\n\"\u001b[39m +\n",
       "      \u001b[32m\"　　没有《球状闪电》，就没有后来的《三体》！\\n\"\u001b[39m +\n",
       "      \u001b[32m\"　　《三体》前传！\\n\"\u001b[39m +\n",
       "      \u001b[32m\"　　亚洲首位雨果奖得主刘慈欣的三大长篇之一！（《三体》《球状闪电》《超新星纪元》）\\n\"\u001b[39m +\n",
       "      \u001b[32m\"　\"\u001b[39m... 189395 more characters,\n",
       "    metadata: { source: \u001b[32m\"data/qiu.txt\"\u001b[39m }\n",
       "  }\n",
       "]"
      ]
     },
     "execution_count": 1,
     "metadata": {},
     "output_type": "execute_result"
    }
   ],
   "source": [
    "import { TextLoader } from \"langchain/document_loaders/fs/text\";\n",
    "const loader = new TextLoader(\"data/qiu.txt\")\n",
    "const docs = await loader.load();\n",
    "docs"
   ]
  },
  {
   "cell_type": "code",
   "execution_count": null,
   "metadata": {},
   "outputs": [
    {
     "ename": "",
     "evalue": "",
     "output_type": "error",
     "traceback": [
      "\u001b[1;31m无法启动 Kernel。 \n",
      "\u001b[1;31m由于等待端口使用超时，无法启动内核 \"Deno\"。 \n",
      "\u001b[1;31m查看 Jupyter <a href='command:jupyter.viewOutput'>log</a>，了解更多详细信息。"
     ]
    }
   ],
   "source": [
    "import { RecursiveCharacterTextSplitter } from 'langchain/text_splitter';\n",
    "import { OllamaEmbeddings } from \"@langchain/ollama\";\n",
    "import { MemoryVectorStore } from \"langchain/vectorstores/memory\";\n",
    "\n",
    "\n",
    "const splitter = new RecursiveCharacterTextSplitter({\n",
    "    chunkSize: 500,\n",
    "    chunkOverlap: 100,\n",
    "});\n",
    "const splitDocs = await splitter.splitDocuments(docs);\n",
    "// console.log(splitDocs[4])\n",
    "// console.log(splitDocs[5].pageContent)\n",
    "const embeddings = new OllamaEmbeddings({\n",
    "    model: \"llama3\",\n",
    "    baseUrl: \"http://127.0.0.1:11434\"\n",
    "}\n",
    ");\n",
    "const vectorstore = new MemoryVectorStore(embeddings);\n",
    "try {\n",
    "    await vectorstore.addDocuments(splitDocs);\n",
    "    console.log(\"Documents added successfully:\", vectorstore.memoryVectors);\n",
    "} catch (error) {\n",
    "    console.error(\"Error adding documents:\", error);\n",
    "}\n",
    "\n",
    "const retriever = vectorstore.asRetriever(2)\n",
    "// retriever\n",
    "const res = await retriever.invoke(\"原文中，谁提出了宏原子的假设？并详细介绍给我宏原子假设的理论\")\n",
    "// res"
   ]
  },
  {
   "cell_type": "code",
   "execution_count": null,
   "metadata": {},
   "outputs": [
    {
     "ename": "",
     "evalue": "",
     "output_type": "error",
     "traceback": [
      "\u001b[1;31m无法启动 Kernel。 \n",
      "\u001b[1;31m由于等待端口使用超时，无法启动内核 \"Deno\"。 \n",
      "\u001b[1;31m查看 Jupyter <a href='command:jupyter.viewOutput'>log</a>，了解更多详细信息。"
     ]
    }
   ],
   "source": [
    "const convertDocsToString = (documents: Document[]): string => {\n",
    "  return documents.map((doc) => doc.pageContent).join(\"\\n\");\n",
    "};"
   ]
  },
  {
   "cell_type": "code",
   "execution_count": null,
   "metadata": {},
   "outputs": [
    {
     "ename": "",
     "evalue": "",
     "output_type": "error",
     "traceback": [
      "\u001b[1;31m无法启动 Kernel。 \n",
      "\u001b[1;31m由于等待端口使用超时，无法启动内核 \"Deno\"。 \n",
      "\u001b[1;31m查看 Jupyter <a href='command:jupyter.viewOutput'>log</a>，了解更多详细信息。"
     ]
    }
   ],
   "source": [
    "const contextRetriverChain = RunnableSequence.from([\n",
    "    (input) => input.question,\n",
    "    retriever,\n",
    "    convertDocsToString\n",
    "])"
   ]
  },
  {
   "cell_type": "code",
   "execution_count": null,
   "metadata": {},
   "outputs": [
    {
     "ename": "",
     "evalue": "",
     "output_type": "error",
     "traceback": [
      "\u001b[1;31m无法启动 Kernel。 \n",
      "\u001b[1;31m由于等待端口使用超时，无法启动内核 \"Deno\"。 \n",
      "\u001b[1;31m查看 Jupyter <a href='command:jupyter.viewOutput'>log</a>，了解更多详细信息。"
     ]
    }
   ],
   "source": [
    "const result = await contextRetriverChain.invoke({ question: \"原文中，谁提出了宏原子的假设？并详细介绍给我宏原子假设的理论\" })\n",
    "console.log(result)"
   ]
  },
  {
   "cell_type": "code",
   "execution_count": null,
   "metadata": {},
   "outputs": [
    {
     "ename": "",
     "evalue": "",
     "output_type": "error",
     "traceback": [
      "\u001b[1;31m无法启动 Kernel。 \n",
      "\u001b[1;31m由于等待端口使用超时，无法启动内核 \"Deno\"。 \n",
      "\u001b[1;31m查看 Jupyter <a href='command:jupyter.viewOutput'>log</a>，了解更多详细信息。"
     ]
    }
   ],
   "source": [
    "import { ChatPromptTemplate } from \"@langchain/core/prompts\"\n",
    "const TEMPLATE = `\n",
    "你是一个熟读刘慈欣的《球状闪电》的终极原著党，精通根据作品原文详细解释和回答问题，你在回答时会引用作品原文。\n",
    "并且回答时仅根据原文，尽可能回答用户问题，如果原文中没有相关内容，你可以回答“原文中没有相关内容”，\n",
    "\n",
    "以下是原文中跟用户回答相关的内容：\n",
    "{context}\n",
    "\n",
    "现在，你需要基于原文，回答以下问题：\n",
    "{question}`;\n",
    "\n",
    "const prompt = ChatPromptTemplate.fromTemplate(TEMPLATE);"
   ]
  },
  {
   "cell_type": "code",
   "execution_count": null,
   "metadata": {},
   "outputs": [
    {
     "ename": "",
     "evalue": "",
     "output_type": "error",
     "traceback": [
      "\u001b[1;31m无法启动 Kernel。 \n",
      "\u001b[1;31m由于等待端口使用超时，无法启动内核 \"Deno\"。 \n",
      "\u001b[1;31m查看 Jupyter <a href='command:jupyter.viewOutput'>log</a>，了解更多详细信息。"
     ]
    }
   ],
   "source": [
    "import { Ollama } from \"@langchain/community/llms/ollama\";\n",
    "const model = new Ollama();"
   ]
  },
  {
   "cell_type": "code",
   "execution_count": null,
   "metadata": {},
   "outputs": [
    {
     "ename": "",
     "evalue": "",
     "output_type": "error",
     "traceback": [
      "\u001b[1;31m无法启动 Kernel。 \n",
      "\u001b[1;31m由于等待端口使用超时，无法启动内核 \"Deno\"。 \n",
      "\u001b[1;31m查看 Jupyter <a href='command:jupyter.viewOutput'>log</a>，了解更多详细信息。"
     ]
    }
   ],
   "source": [
    "const ragChain = RunnableSequence.from([\n",
    "   {\n",
    "    context: contextRetriverChain,\n",
    "    question: (input) => input.question,\n",
    "   },\n",
    "   prompt,\n",
    "   model,\n",
    "   new StringOutputParser(),\n",
    "])\n",
    "\n",
    "const answer = await ragChain.invoke({\n",
    "   quention: \"详细描述原文中有什么跟直升机相关的场景\"\n",
    "})\n",
    "console.log(answer)"
   ]
  }
 ],
 "metadata": {
  "kernelspec": {
   "display_name": "Deno",
   "language": "typescript",
   "name": "deno"
  },
  "language_info": {
   "codemirror_mode": "typescript",
   "file_extension": ".ts",
   "mimetype": "text/x.typescript",
   "name": "typescript",
   "nbconvert_exporter": "script",
   "pygments_lexer": "typescript",
   "version": "5.4.5"
  }
 },
 "nbformat": 4,
 "nbformat_minor": 2
}
