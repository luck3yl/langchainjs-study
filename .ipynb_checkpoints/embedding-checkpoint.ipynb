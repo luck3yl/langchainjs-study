{
 "cells": [
  {
   "cell_type": "code",
   "execution_count": 147,
   "metadata": {},
   "outputs": [
    {
     "data": {
      "text/plain": [
       "Document {\n",
       "  pageContent: \u001b[32m\"test text\"\u001b[39m,\n",
       "  metadata: { source: \u001b[32m\"ABC Title\"\u001b[39m }\n",
       "}"
      ]
     },
     "execution_count": 147,
     "metadata": {},
     "output_type": "execute_result"
    }
   ],
   "source": [
    "import { Document } from \"langchain/document\";\n",
    "\n",
    "const test = new Document({ pageContent: \"test text\", metadata: { source: \"ABC Title\" } })\n",
    "test"
   ]
  },
  {
   "cell_type": "code",
   "execution_count": 148,
   "metadata": {},
   "outputs": [
    {
     "data": {
      "text/plain": [
       "[\n",
       "  Document {\n",
       "    pageContent: \u001b[32m\"咖啡（英语：coffee）是指咖啡植物的种子即咖啡豆在经过烘焙磨粉后通过冲泡制成的饮料，咖啡亦是世界上流行范围最为广泛的饮料之一。未经烘焙的咖啡生豆作为世界上最大的农产品出口物，以及世界上交易量为广泛\"\u001b[39m... 454 more characters,\n",
       "    metadata: { source: \u001b[32m\"data/cafe.txt\"\u001b[39m }\n",
       "  }\n",
       "]"
      ]
     },
     "execution_count": 148,
     "metadata": {},
     "output_type": "execute_result"
    }
   ],
   "source": [
    "// TextLoader\n",
    "import { TextLoader } from \"langchain/document_loaders/fs/text\";\n",
    "const loader = new TextLoader(\"data/cafe.txt\");\n",
    "\n",
    "const docs = await loader.load()\n",
    "docs"
   ]
  },
  {
   "cell_type": "code",
   "execution_count": 149,
   "metadata": {},
   "outputs": [
    {
     "data": {
      "text/plain": [
       "[\n",
       "  Document {\n",
       "    pageContent: \u001b[32m\"2024/3/24 20:59\\n\"\u001b[39m +\n",
       "      \u001b[32m\"如何使用 github copilot 完成 50% 的日常工作\\n\"\u001b[39m +\n",
       "      \u001b[32m\"https://kaiyi.cool/blog/github-copilot1/14\\n\"\u001b[39m +\n",
       "      \u001b[32m\"如何使用 git\"\u001b[39m... 6530 more characters,\n",
       "    metadata: {\n",
       "      source: \u001b[32m\"data/github-copliot.pdf\"\u001b[39m,\n",
       "      pdf: {\n",
       "        version: \u001b[32m\"1.10.100\"\u001b[39m,\n",
       "        info: {\n",
       "          PDFFormatVersion: \u001b[32m\"1.4\"\u001b[39m,\n",
       "          IsAcroFormPresent: \u001b[33mfalse\u001b[39m,\n",
       "          IsXFAPresent: \u001b[33mfalse\u001b[39m,\n",
       "          Title: \u001b[32m\"如何使用 github copilot 完成 50% 的日常工作\"\u001b[39m,\n",
       "          Creator: \u001b[32m\"Mozilla/5.0 (Macintosh; Intel Mac OS X 10_15_7) AppleWebKit/537.36 (KHTML, like Gecko) Chrome/123.0.\"\u001b[39m... 17 more characters,\n",
       "          Producer: \u001b[32m\"Skia/PDF m123\"\u001b[39m,\n",
       "          CreationDate: \u001b[32m\"D:20240324125917+00'00'\"\u001b[39m,\n",
       "          ModDate: \u001b[32m\"D:20240324125917+00'00'\"\u001b[39m\n",
       "        },\n",
       "        metadata: \u001b[1mnull\u001b[22m,\n",
       "        totalPages: \u001b[33m14\u001b[39m\n",
       "      }\n",
       "    }\n",
       "  }\n",
       "]"
      ]
     },
     "execution_count": 149,
     "metadata": {},
     "output_type": "execute_result"
    }
   ],
   "source": [
    "// PDFLoader\n",
    "import * as pdfParse from \"pdf-parse\";\n",
    "import { PDFLoader } from \"langchain/document_loaders/fs/pdf\";\n",
    "const loader = new PDFLoader(\"data/github-copliot.pdf\", { splitPages: false });\n",
    "const pdfs = await loader.load()\n",
    "pdfs"
   ]
  },
  {
   "cell_type": "code",
   "execution_count": 150,
   "metadata": {},
   "outputs": [
    {
     "data": {
      "text/plain": [
       "[\n",
       "  Document {\n",
       "    pageContent: \u001b[32m\"2024/3/24 20:59\\n\"\u001b[39m +\n",
       "      \u001b[32m\"如何使用 github copilot 完成 50% 的日常工作\\n\"\u001b[39m +\n",
       "      \u001b[32m\"https://kaiyi.cool/blog/github-copilot1/14\\n\"\u001b[39m +\n",
       "      \u001b[32m\"如何使用 git\"\u001b[39m... 6530 more characters,\n",
       "    metadata: {\n",
       "      source: \u001b[32m\"/Users/yyl/Documents/yyl/study/yyl-ai/jupyter-ai/js/data/github-copliot.pdf\"\u001b[39m,\n",
       "      pdf: {\n",
       "        version: \u001b[32m\"1.10.100\"\u001b[39m,\n",
       "        info: {\n",
       "          PDFFormatVersion: \u001b[32m\"1.4\"\u001b[39m,\n",
       "          IsAcroFormPresent: \u001b[33mfalse\u001b[39m,\n",
       "          IsXFAPresent: \u001b[33mfalse\u001b[39m,\n",
       "          Title: \u001b[32m\"如何使用 github copilot 完成 50% 的日常工作\"\u001b[39m,\n",
       "          Creator: \u001b[32m\"Mozilla/5.0 (Macintosh; Intel Mac OS X 10_15_7) AppleWebKit/537.36 (KHTML, like Gecko) Chrome/123.0.\"\u001b[39m... 17 more characters,\n",
       "          Producer: \u001b[32m\"Skia/PDF m123\"\u001b[39m,\n",
       "          CreationDate: \u001b[32m\"D:20240324125917+00'00'\"\u001b[39m,\n",
       "          ModDate: \u001b[32m\"D:20240324125917+00'00'\"\u001b[39m\n",
       "        },\n",
       "        metadata: \u001b[1mnull\u001b[22m,\n",
       "        totalPages: \u001b[33m14\u001b[39m\n",
       "      }\n",
       "    }\n",
       "  },\n",
       "  Document {\n",
       "    pageContent: \u001b[32m\"咖啡（英语：coffee）是指咖啡植物的种子即咖啡豆在经过烘焙磨粉后通过冲泡制成的饮料，咖啡亦是世界上流行范围最为广泛的饮料之一。未经烘焙的咖啡生豆作为世界上最大的农产品出口物，以及世界上交易量为广泛\"\u001b[39m... 454 more characters,\n",
       "    metadata: {\n",
       "      source: \u001b[32m\"/Users/yyl/Documents/yyl/study/yyl-ai/jupyter-ai/js/data/cafe.txt\"\u001b[39m\n",
       "    }\n",
       "  }\n",
       "]"
      ]
     },
     "execution_count": 150,
     "metadata": {},
     "output_type": "execute_result"
    }
   ],
   "source": [
    "// DirectoryLoader\n",
    "import { DirectoryLoader } from \"langchain/document_loaders/fs/directory\";\n",
    "\n",
    "const loader = new DirectoryLoader(\n",
    "    \"./data\",\n",
    "    {\n",
    "        \".pdf\": (path) => new PDFLoader(path, { splitPages: false }),\n",
    "        \".txt\": (path) => new TextLoader(path),\n",
    "    }\n",
    ")\n",
    "const docs = await loader.load()\n",
    "docs"
   ]
  },
  {
   "cell_type": "code",
   "execution_count": 151,
   "metadata": {},
   "outputs": [
    {
     "data": {
      "text/plain": [
       "GithubRepoLoader {\n",
       "  baseUrl: \u001b[32m\"https://github.com\"\u001b[39m,\n",
       "  apiUrl: \u001b[32m\"https://api.github.com\"\u001b[39m,\n",
       "  owner: \u001b[32m\"RealKai42\"\u001b[39m,\n",
       "  repo: \u001b[32m\"qwerty-learner\"\u001b[39m,\n",
       "  initialPath: \u001b[32m\"\"\u001b[39m,\n",
       "  headers: { \u001b[32m\"User-Agent\"\u001b[39m: \u001b[32m\"langchain\"\u001b[39m },\n",
       "  branch: \u001b[32m\"master\"\u001b[39m,\n",
       "  recursive: \u001b[33mfalse\u001b[39m,\n",
       "  processSubmodules: \u001b[33mfalse\u001b[39m,\n",
       "  unknown: \u001b[32m\"warn\"\u001b[39m,\n",
       "  accessToken: \u001b[90mundefined\u001b[39m,\n",
       "  ignoreFiles: [],\n",
       "  ignore: Ignore {\n",
       "    _rules: [\n",
       "      IgnoreRule {\n",
       "        origin: \u001b[32m\"*.md\"\u001b[39m,\n",
       "        pattern: \u001b[32m\"*.md\"\u001b[39m,\n",
       "        negative: \u001b[33mfalse\u001b[39m,\n",
       "        regex: \u001b[31m/(?:^|\\/)[^\\/]*\\.md(?=$|\\/$)/i\u001b[39m\n",
       "      },\n",
       "      IgnoreRule {\n",
       "        origin: \u001b[32m\"yarn.lock\"\u001b[39m,\n",
       "        pattern: \u001b[32m\"yarn.lock\"\u001b[39m,\n",
       "        negative: \u001b[33mfalse\u001b[39m,\n",
       "        regex: \u001b[31m/(?:^|\\/)yarn\\.lock(?=$|\\/$)/i\u001b[39m\n",
       "      },\n",
       "      IgnoreRule {\n",
       "        origin: \u001b[32m\"*.json\"\u001b[39m,\n",
       "        pattern: \u001b[32m\"*.json\"\u001b[39m,\n",
       "        negative: \u001b[33mfalse\u001b[39m,\n",
       "        regex: \u001b[31m/(?:^|\\/)[^\\/]*\\.json(?=$|\\/$)/i\u001b[39m\n",
       "      }\n",
       "    ],\n",
       "    _ignoreCase: \u001b[33mtrue\u001b[39m,\n",
       "    _allowRelativePaths: \u001b[33mfalse\u001b[39m,\n",
       "    _ignoreCache: [Object: null prototype] {},\n",
       "    _testCache: [Object: null prototype] {},\n",
       "    _added: \u001b[33mtrue\u001b[39m\n",
       "  },\n",
       "  verbose: \u001b[33mfalse\u001b[39m,\n",
       "  maxConcurrency: \u001b[33m2\u001b[39m,\n",
       "  maxRetries: \u001b[33m2\u001b[39m,\n",
       "  caller: AsyncCaller {\n",
       "    maxConcurrency: \u001b[33m2\u001b[39m,\n",
       "    maxRetries: \u001b[33m2\u001b[39m,\n",
       "    onFailedAttempt: \u001b[36m[Function: defaultFailedAttemptHandler]\u001b[39m,\n",
       "    queue: PQueue {\n",
       "      _events: Events <[Object: null prototype] {}> {},\n",
       "      _eventsCount: \u001b[33m0\u001b[39m,\n",
       "      _intervalCount: \u001b[33m0\u001b[39m,\n",
       "      _intervalEnd: \u001b[33m0\u001b[39m,\n",
       "      _pendingCount: \u001b[33m0\u001b[39m,\n",
       "      _resolveEmpty: \u001b[36m[Function: empty]\u001b[39m,\n",
       "      _resolveIdle: \u001b[36m[Function: empty]\u001b[39m,\n",
       "      _carryoverConcurrencyCount: \u001b[33mfalse\u001b[39m,\n",
       "      _isIntervalIgnored: \u001b[33mtrue\u001b[39m,\n",
       "      _intervalCap: \u001b[33mInfinity\u001b[39m,\n",
       "      _interval: \u001b[33m0\u001b[39m,\n",
       "      _queue: PriorityQueue { _queue: [] },\n",
       "      _queueClass: \u001b[36m[class PriorityQueue]\u001b[39m,\n",
       "      _concurrency: \u001b[33m2\u001b[39m,\n",
       "      _intervalId: \u001b[90mundefined\u001b[39m,\n",
       "      _timeout: \u001b[90mundefined\u001b[39m,\n",
       "      _throwOnTimeout: \u001b[33mfalse\u001b[39m,\n",
       "      _isPaused: \u001b[33mfalse\u001b[39m\n",
       "    }\n",
       "  },\n",
       "  ignorePaths: [ \u001b[32m\"*.md\"\u001b[39m, \u001b[32m\"yarn.lock\"\u001b[39m, \u001b[32m\"*.json\"\u001b[39m ],\n",
       "  submoduleInfos: \u001b[90mundefined\u001b[39m\n",
       "}"
      ]
     },
     "execution_count": 151,
     "metadata": {},
     "output_type": "execute_result"
    }
   ],
   "source": [
    "// Github loader\n",
    "import { GithubRepoLoader } from \"langchain/document_loaders/web/github\";\n",
    "import ignore from \"ignore\";\n",
    "\n",
    "const loader = new GithubRepoLoader(\n",
    "    \"https://github.com/RealKai42/qwerty-learner\",\n",
    "    { \n",
    "        branch: \"master\",\n",
    "        recursive: false, \n",
    "        unknown: \"warn\", \n",
    "        ignorePaths: [\"*.md\", \"yarn.lock\", \"*.json\"],\n",
    "        // accessToken: env[\"GITHUB_TOKEN\"]\n",
    "        accessToken: Deno.env.get(\"GITHUB_TOKEN\")\n",
    "    }\n",
    "  );\n",
    "\n",
    "loader"
   ]
  },
  {
   "cell_type": "code",
   "execution_count": 152,
   "metadata": {},
   "outputs": [],
   "source": [
    "// WebLoader\n",
    "import \"cheerio\";\n",
    "import { CheerioWebBaseLoader } from \"langchain/document_loaders/web/cheerio\";\n",
    "\n",
    "const loader = new CheerioWebBaseLoader(\n",
    "    \"https://kaiyi.cool/blog/github-copilot\"\n",
    ")\n",
    "const docs = await loader.load();\n",
    "docs"
   ]
  },
  {
   "cell_type": "code",
   "execution_count": null,
   "metadata": {},
   "outputs": [],
   "source": [
    "const loader = new CheerioWebBaseLoader(\n",
    "    \"https://kaiyi.cool/blog/github-copilot\",\n",
    "    {\n",
    "      selector: \"h3\",\n",
    "    }\n",
    "  );\n",
    "  \n",
    "  const docs = await loader.load();\n",
    "  console.log(docs[0].pageContent)\n",
    "  "
   ]
  },
  {
   "cell_type": "code",
   "execution_count": null,
   "metadata": {},
   "outputs": [],
   "source": [
    "// Search API\n",
    "import { SerpAPILoader } from \"langchain/document_loaders/web/serpapi\";\n",
    "// const apiKey = env[\"SERP_KEY\"]\n",
    "const apiKey = Deno.env.get(\"SERP_KEY\")\n",
    "const quesrion = \"什么是 github copliot\"\n",
    "const loader = new SerpAPILoader({ q: quesrion, apiKey });\n",
    "const docs = await loader.load();\n",
    "docs"
   ]
  },
  {
   "cell_type": "code",
   "execution_count": 156,
   "metadata": {},
   "outputs": [
    {
     "data": {
      "text/plain": [
       "[\n",
       "  Document {\n",
       "    pageContent: \u001b[32m\"咖啡（英语：coffee）是指咖啡植物的种子即咖啡豆在经过烘焙磨粉后通过冲泡制成的饮料，咖啡亦是世界上流行范围最为广泛的饮料之一\"\u001b[39m,\n",
       "    metadata: { source: \u001b[32m\"data/cafe.txt\"\u001b[39m, loc: { lines: { from: \u001b[33m1\u001b[39m, to: \u001b[33m1\u001b[39m } } }\n",
       "  },\n",
       "  Document {\n",
       "    pageContent: \u001b[32m\"世界上流行范围最为广泛的饮料之一。未经烘焙的咖啡生豆作为世界上最大的农产品出口物，以及世界上交易量为广泛的热带农产品之一，也是发\"\u001b[39m,\n",
       "    metadata: { source: \u001b[32m\"data/cafe.txt\"\u001b[39m, loc: { lines: { from: \u001b[33m1\u001b[39m, to: \u001b[33m1\u001b[39m } } }\n",
       "  },\n",
       "  Document {\n",
       "    pageContent: \u001b[32m\"量为广泛的热带农产品之一，也是发展中国家出口中最有价值的商品之一。[3][4][5]咖啡原产于非洲东岸的埃塞俄比亚，[6]15-\"\u001b[39m,\n",
       "    metadata: { source: \u001b[32m\"data/cafe.txt\"\u001b[39m, loc: { lines: { from: \u001b[33m1\u001b[39m, to: \u001b[33m1\u001b[39m } } }\n",
       "  },\n",
       "  Document {\n",
       "    pageContent: \u001b[32m\"洲东岸的埃塞俄比亚，[6]15-16世纪咖啡从也门被传播至穆斯林世界，[1][7][8]16世纪的威尼斯商人将咖啡引入意大利，[\"\u001b[39m,\n",
       "    metadata: { source: \u001b[32m\"data/cafe.txt\"\u001b[39m, loc: { lines: { from: \u001b[33m1\u001b[39m, to: \u001b[33m1\u001b[39m } } }\n",
       "  },\n",
       "  Document {\n",
       "    pageContent: \u001b[32m\"的威尼斯商人将咖啡引入意大利，[9]随后17-18世纪由于欧洲对咖啡的需求，促使殖民者将咖啡树传播并栽种到美洲、东南亚和印度等热\"\u001b[39m,\n",
       "    metadata: { source: \u001b[32m\"data/cafe.txt\"\u001b[39m, loc: { lines: { from: \u001b[33m1\u001b[39m, to: \u001b[33m1\u001b[39m } } }\n",
       "  },\n",
       "  Document {\n",
       "    pageContent: \u001b[32m\"播并栽种到美洲、东南亚和印度等热带地区，[10][11]现今有超过70个国家种植咖啡树。[4][12]咖啡在人类饮食中的定位近似\"\u001b[39m,\n",
       "    metadata: { source: \u001b[32m\"data/cafe.txt\"\u001b[39m, loc: { lines: { from: \u001b[33m1\u001b[39m, to: \u001b[33m1\u001b[39m } } }\n",
       "  },\n",
       "  Document {\n",
       "    pageContent: \u001b[32m\"12]咖啡在人类饮食中的定位近似于茶，人们通常在用餐和社交、阅读时饮用，亦或是用作提神。采收的成熟咖啡果会经过剥离果肉的初步加工\"\u001b[39m,\n",
       "    metadata: { source: \u001b[32m\"data/cafe.txt\"\u001b[39m, loc: { lines: { from: \u001b[33m1\u001b[39m, to: \u001b[33m1\u001b[39m } } }\n",
       "  },\n",
       "  Document {\n",
       "    pageContent: \u001b[32m\"熟咖啡果会经过剥离果肉的初步加工，而咖啡豆仍需要经过烘焙的工序，烘焙过的咖啡豆能够以多种方式冲泡为咖啡热饮，如浓缩咖啡、卡布奇诺\"\u001b[39m,\n",
       "    metadata: { source: \u001b[32m\"data/cafe.txt\"\u001b[39m, loc: { lines: { from: \u001b[33m1\u001b[39m, to: \u001b[33m1\u001b[39m } } }\n",
       "  },\n",
       "  Document {\n",
       "    pageContent: \u001b[32m\"为咖啡热饮，如浓缩咖啡、卡布奇诺和拿铁咖啡等，亦可作为冷饮。咖啡普遍分为两种：最为普遍的小果咖啡（阿拉比卡）及颗粒较粗且酸味较低\"\u001b[39m,\n",
       "    metadata: { source: \u001b[32m\"data/cafe.txt\"\u001b[39m, loc: { lines: { from: \u001b[33m1\u001b[39m, to: \u001b[33m1\u001b[39m } } }\n",
       "  },\n",
       "  Document {\n",
       "    pageContent: \u001b[32m\"（阿拉比卡）及颗粒较粗且酸味较低而苦味较浓的中果咖啡（罗布斯塔）。[4]一些争议指咖啡的种植与它环境影响有关，例如肯亚咖啡豆在移\"\u001b[39m,\n",
       "    metadata: { source: \u001b[32m\"data/cafe.txt\"\u001b[39m, loc: { lines: { from: \u001b[33m1\u001b[39m, to: \u001b[33m1\u001b[39m } } }\n",
       "  },\n",
       "  Document {\n",
       "    pageContent: \u001b[32m\"环境影响有关，例如肯亚咖啡豆在移植种植后失去了独有的肯亚酸，而肯亚的原种地土壤含有较高浓度的磷酸。因此，公平贸易咖啡与有机咖啡是\"\u001b[39m,\n",
       "    metadata: { source: \u001b[32m\"data/cafe.txt\"\u001b[39m, loc: { lines: { from: \u001b[33m1\u001b[39m, to: \u001b[33m1\u001b[39m } } }\n",
       "  },\n",
       "  Document {\n",
       "    pageContent: \u001b[32m\"。因此，公平贸易咖啡与有机咖啡是一个不断扩大的市场。\"\u001b[39m,\n",
       "    metadata: { source: \u001b[32m\"data/cafe.txt\"\u001b[39m, loc: { lines: { from: \u001b[33m1\u001b[39m, to: \u001b[33m1\u001b[39m } } }\n",
       "  }\n",
       "]"
      ]
     },
     "execution_count": 156,
     "metadata": {},
     "output_type": "execute_result"
    }
   ],
   "source": [
    "import { RecursiveCharacterTextSplitter } from \"langchain/text_splitter\";\n",
    "import { TextLoader } from \"langchain/document_loaders/fs/text\";\n",
    "const loader = new TextLoader(\"data/cafe.txt\");\n",
    "const docs = await loader.load();\n",
    "const splitter = new RecursiveCharacterTextSplitter({\n",
    "    chunkSize: 64,\n",
    "    chunkOverlap: 16,\n",
    "})\n",
    "\n",
    "const splitDocs = await splitter.splitDocuments(docs);\n",
    "splitDocs\n"
   ]
  },
  {
   "cell_type": "code",
   "execution_count": 157,
   "metadata": {},
   "outputs": [
    {
     "data": {
      "text/plain": [
       "[\n",
       "  Document {\n",
       "    pageContent: \u001b[32m\"function myFunction(name,job){\"\u001b[39m,\n",
       "    metadata: { loc: { lines: { from: \u001b[33m2\u001b[39m, to: \u001b[33m2\u001b[39m } } }\n",
       "  },\n",
       "  Document {\n",
       "    pageContent: \u001b[32m'console.log(\"Welcome \" + name + \", the \" + job);\\n}'\u001b[39m,\n",
       "    metadata: { loc: { lines: { from: \u001b[33m3\u001b[39m, to: \u001b[33m4\u001b[39m } } }\n",
       "  },\n",
       "  Document {\n",
       "    pageContent: \u001b[32m\"myFunction('Harry Potter','Wizard')\"\u001b[39m,\n",
       "    metadata: { loc: { lines: { from: \u001b[33m6\u001b[39m, to: \u001b[33m6\u001b[39m } } }\n",
       "  },\n",
       "  Document {\n",
       "    pageContent: \u001b[32m\"function forFunction(){\\n\\tfor (let i=0; i<5; i++){\"\u001b[39m,\n",
       "    metadata: { loc: { lines: { from: \u001b[33m8\u001b[39m, to: \u001b[33m9\u001b[39m } } }\n",
       "  },\n",
       "  Document {\n",
       "    pageContent: \u001b[32m'console.log(\"这个数字是\" + i)\\n\\t}\\n}'\u001b[39m,\n",
       "    metadata: { loc: { lines: { from: \u001b[33m10\u001b[39m, to: \u001b[33m12\u001b[39m } } }\n",
       "  },\n",
       "  Document {\n",
       "    pageContent: \u001b[32m\"forFunction()\"\u001b[39m,\n",
       "    metadata: { loc: { lines: { from: \u001b[33m14\u001b[39m, to: \u001b[33m14\u001b[39m } } }\n",
       "  }\n",
       "]"
      ]
     },
     "execution_count": 157,
     "metadata": {},
     "output_type": "execute_result"
    }
   ],
   "source": [
    "import { RecursiveCharacterTextSplitter } from \"langchain/text_splitter\";\n",
    "\n",
    "const js = `\n",
    "function myFunction(name,job){\n",
    "\tconsole.log(\"Welcome \" + name + \", the \" + job);\n",
    "}\n",
    "\n",
    "myFunction('Harry Potter','Wizard')\n",
    "\n",
    "function forFunction(){\n",
    "\tfor (let i=0; i<5; i++){\n",
    "        console.log(\"这个数字是\" + i)\n",
    "\t}\n",
    "}\n",
    "\n",
    "forFunction()\n",
    "`;\n",
    "\n",
    "const splitter = RecursiveCharacterTextSplitter.fromLanguage(\"js\", {\n",
    "  chunkSize: 64,\n",
    "  chunkOverlap: 0,\n",
    "});\n",
    "const jsOutput = await splitter.createDocuments([js])\n",
    "jsOutput\n",
    " "
   ]
  },
  {
   "cell_type": "code",
   "execution_count": 158,
   "metadata": {},
   "outputs": [
    {
     "data": {
      "text/plain": [
       "[\n",
       "  Document {\n",
       "    pageContent: \u001b[32m\"I stand before you today the representative of a family\"\u001b[39m,\n",
       "    metadata: { loc: { lines: { from: \u001b[33m1\u001b[39m, to: \u001b[33m1\u001b[39m } } }\n",
       "  },\n",
       "  Document {\n",
       "    pageContent: \u001b[32m\" in grief, in a country in mourning before a\"\u001b[39m,\n",
       "    metadata: { loc: { lines: { from: \u001b[33m1\u001b[39m, to: \u001b[33m1\u001b[39m } } }\n",
       "  },\n",
       "  Document {\n",
       "    pageContent: \u001b[32m\" world in shock.\"\u001b[39m,\n",
       "    metadata: { loc: { lines: { from: \u001b[33m1\u001b[39m, to: \u001b[33m1\u001b[39m } } }\n",
       "  }\n",
       "]"
      ]
     },
     "execution_count": 158,
     "metadata": {},
     "output_type": "execute_result"
    }
   ],
   "source": [
    "import { TokenTextSplitter } from \"langchain/text_splitter\";\n",
    "\n",
    "const text = \"I stand before you today the representative of a family in grief, in a country in mourning before a world in shock.\";\n",
    "\n",
    "const splitter = new TokenTextSplitter({\n",
    "  chunkSize: 10,\n",
    "  chunkOverlap: 0,\n",
    "});\n",
    "\n",
    "const docs = await splitter.createDocuments([text]);\n",
    "docs"
   ]
  }
 ],
 "metadata": {
  "kernelspec": {
   "display_name": "Deno",
   "language": "typescript",
   "name": "deno"
  },
  "language_info": {
   "codemirror_mode": "typescript",
   "file_extension": ".ts",
   "mimetype": "text/x.typescript",
   "name": "typescript",
   "nbconvert_exporter": "script",
   "pygments_lexer": "typescript",
   "version": "5.4.5"
  }
 },
 "nbformat": 4,
 "nbformat_minor": 2
}
