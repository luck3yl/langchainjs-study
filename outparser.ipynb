{
 "cells": [
  {
   "cell_type": "code",
   "execution_count": 1,
   "metadata": {},
   "outputs": [
    {
     "ename": "",
     "evalue": "",
     "output_type": "error",
     "traceback": [
      "\u001b[1;31m在当前单元格或上一个单元格中执行代码时 Kernel 崩溃。\n",
      "\u001b[1;31m请查看单元格中的代码，以确定故障的可能原因。\n",
      "\u001b[1;31m单击<a href='https://aka.ms/vscodeJupyterKernelCrash'>此处</a>了解详细信息。\n",
      "\u001b[1;31m有关更多详细信息，请查看 Jupyter <a href='command:jupyter.viewOutput'>log</a>。"
     ]
    }
   ],
   "source": [
    "// import { ChatOpenAI } from \"@langchain/openai\";\n",
    "// import { HumanMessage } from \"@langchain/core/messages\";\n",
    "\n",
    "// const model = new ChatOpenAI();\n",
    "\n",
    "// await model.invoke([\n",
    "//     new HumanMessage(\"Tell me a joke\")\n",
    "// ])\n"
   ]
  },
  {
   "cell_type": "code",
   "execution_count": 2,
   "metadata": {},
   "outputs": [],
   "source": [
    "// import { StringOutputParser } from \"@langchain/core/output_parsers\";\n",
    "// import { HumanMessage } from \"@langchain/core/messages\";\n",
    "\n",
    "// const parser = new StringOutputParser();\n",
    "// const model = new ChatOpenAI();\n",
    "\n",
    "// const chain = model.pipe(parser)\n",
    "\n",
    "// await chain.invoke([\n",
    "//     new HumanMessage(\"Tell me a joke\")\n",
    "// ])\n"
   ]
  },
  {
   "cell_type": "code",
   "execution_count": 6,
   "metadata": {},
   "outputs": [
    {
     "name": "stdout",
     "output_type": "stream",
     "text": [
      "{ answer: \"湖北省的省会城市是襄阳\", confidence: 90 }\n"
     ]
    }
   ],
   "source": [
    "// StructuredOutputParser\n",
    "import { StructuredOutputParser, OutputFixingParser } from \"langchain/output_parsers\";\n",
    "import { PromptTemplate } from \"@langchain/core/prompts\";\n",
    "import { ChatOpenAI } from \"@langchain/openai\";\n",
    "import { Ollama } from \"@langchain/community/llms/ollama\";\n",
    "import { z }  from \"zod\";\n",
    "const schema = z.object({\n",
    "    answer: z.string().describe(\"用户问题的答案\"),\n",
    "    confidence: z.number().min(0).max(100).describe(\"问题答案的可信度评分，满分 100\")\n",
    "})\n",
    "const parser = StructuredOutputParser.fromZodSchema(schema);\n",
    "// const parser = StructuredOutputParser.fromNamesAndDescriptions({\n",
    "//     answer: \"用户问题的答案\",\n",
    "//     evidence: \"你回答用户问题所依据的答案\",\n",
    "//     confidence: \"问题答案的可信度评分，格式是百分数\"\n",
    "// })\n",
    "// console.log(parser.getFormatInstructions())\n",
    "const prompt = PromptTemplate.fromTemplate(\"尽可能的回答用的问题 \\n{instructions} \\n{question}\")\n",
    "// const model = new ChatOpenAI();\n",
    "const model = new Ollama({\n",
    "    baseUrl: \"http://localhost:11434\", \n",
    "    model: \"llama3\", \n",
    "  });\n",
    "const chain = prompt.pipe(model).pipe(parser)\n",
    "const res = await chain.invoke({\n",
    "    question: \"湖北省的省会城市是什么？\",\n",
    "    instructions: parser.getFormatInstructions()\n",
    "})\n",
    "// console.log(res, 'res');\n",
    "const wrongOutput = {\n",
    "    \"answer\": \"湖北省的省会城市是襄阳\",\n",
    "    \"confidence\": 90, \n",
    "}\n",
    "const fixParser = OutputFixingParser.fromLLM(model, parser);\n",
    "const output = await fixParser.parse(JSON.stringify(wrongOutput))\n",
    "console.log(output)\n"
   ]
  },
  {
   "cell_type": "code",
   "execution_count": null,
   "metadata": {},
   "outputs": [
    {
     "name": "stdout",
     "output_type": "stream",
     "text": [
      "[\n",
      "  \"Here are 3 famous Chinese internet companies:\\n\\nAlibaba\",\n",
      "  \"Tencent\",\n",
      "  \"JD.com\"\n",
      "]\n"
     ]
    },
    {
     "ename": "",
     "evalue": "",
     "output_type": "error",
     "traceback": [
      "\u001b[1;31m在当前单元格或上一个单元格中执行代码时 Kernel 崩溃。\n",
      "\u001b[1;31m请查看单元格中的代码，以确定故障的可能原因。\n",
      "\u001b[1;31m单击<a href='https://aka.ms/vscodeJupyterKernelCrash'>此处</a>了解详细信息。\n",
      "\u001b[1;31m有关更多详细信息，请查看 Jupyter <a href='command:jupyter.viewOutput'>log</a>。"
     ]
    }
   ],
   "source": [
    "// List Output Parser\n",
    "import { CommaSeparatedListOutputParser } from \"@langchain/core/output_parsers\";\n",
    "const parser = new CommaSeparatedListOutputParser()\n",
    "// console.log(parser.getFormatInstructions());\n",
    "const model = new Ollama({\n",
    "    baseUrl: \"http://localhost:11434\", \n",
    "    model: \"llama3\", \n",
    "  });\n",
    "const prompt = PromptTemplate.fromTemplate(\"列出3个 {country} 的著名的互联网公司.\\n{instructions}\")\n",
    "const chain = prompt.pipe(model).pipe(parser)\n",
    "const response = await chain.invoke({\n",
    "    country: \"China\",\n",
    "    instructions: parser.getFormatInstructions()\n",
    "})\n",
    "console.log(response);\n"
   ]
  }
 ],
 "metadata": {
  "kernelspec": {
   "display_name": "Deno",
   "language": "typescript",
   "name": "deno"
  },
  "language_info": {
   "codemirror_mode": "typescript",
   "file_extension": ".ts",
   "mimetype": "text/x.typescript",
   "name": "typescript",
   "nbconvert_exporter": "script",
   "pygments_lexer": "typescript",
   "version": "5.4.5"
  }
 },
 "nbformat": 4,
 "nbformat_minor": 2
}
