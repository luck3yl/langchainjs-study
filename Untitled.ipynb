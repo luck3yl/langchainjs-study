{
 "cells": [
  {
   "cell_type": "code",
   "execution_count": null,
   "id": "be304aa0-274a-4dfd-a51f-feb392f05d2c",
   "metadata": {},
   "outputs": [],
   "source": []
  }
 ],
 "metadata": {
  "kernelspec": {
   "display_name": "Deno",
   "language": "typescript",
   "name": "deno"
  },
  "language_info": {
   "name": ""
  }
 },
 "nbformat": 4,
 "nbformat_minor": 5
}
