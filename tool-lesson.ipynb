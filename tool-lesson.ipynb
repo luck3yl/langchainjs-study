{
 "cells": [
  {
   "cell_type": "code",
   "execution_count": 2,
   "metadata": {},
   "outputs": [],
   "source": [
    "import { Ollama } from \"@langchain/community/llms/ollama\";\n",
    "\n",
    "const ollama = new Ollama({\n",
    "  baseUrl: \"http://localhost:11434\", \n",
    "  model: \"llama3\", \n",
    "});\n",
    "\n",
    "function getCurrentWeather({ location, unit=\"fahrenheit\"}){\n",
    "    const weather_info = {\n",
    "        \"location\": location,\n",
    "        \"temperature\": \"72\",\n",
    "        \"unit\": unit,\n",
    "        \"forecast\": [\"sunny\", \"windy\"],\n",
    "    }\n",
    "    return JSON.stringify(weather_info)\n",
    "}"
   ]
  },
  {
   "cell_type": "code",
   "execution_count": 3,
   "metadata": {},
   "outputs": [],
   "source": [
    "const tools = [{\n",
    "    type: \"function\",\n",
    "    function: {\n",
    "        name: \"getCurrentWeather\",\n",
    "        description: \"Get the current weather in a given location\",\n",
    "        parameters: {\n",
    "            type: \"object\",\n",
    "            properties: {\n",
    "                location: {\n",
    "                    type: 'string',\n",
    "                    description: \"The city and state, e.g. San Francisco, CA\",\n",
    "                },\n",
    "                unit: { type: \"string\", enum: [\"celsius\", \"fahrenheit\"]},\n",
    "            },\n",
    "            required: [\"location\"]     \n",
    "        }\n",
    "    }\n",
    "}]"
   ]
  },
  {
   "cell_type": "code",
   "execution_count": 9,
   "metadata": {},
   "outputs": [
    {
     "name": "stdout",
     "output_type": "stream",
     "text": [
      "It seems like you've sent a JSON object! The `Object` in square brackets indicates that it's an empty object or a null value.\n",
      "\n",
      "If you meant to send some actual data, feel free to provide more information about what you're trying to achieve. I'm here to help with any questions or problems you might have! \u001b[33m11\u001b[39m\n"
     ]
    }
   ],
   "source": [
    "const messages = [\n",
    "    {\n",
    "        \"role\": \"user\",\n",
    "        \"content\": \"北京的秋天怎么样\"\n",
    "    }\n",
    "]\n",
    "\n",
    "const result = await ollama.chat.completions.create({\n",
    "    model: \"llama3\", \n",
    "    messages,\n",
    "    tools\n",
    "})\n",
    "console.log(result.choices[0])"
   ]
  },
  {
   "cell_type": "code",
   "execution_count": null,
   "metadata": {},
   "outputs": [],
   "source": []
  }
 ],
 "metadata": {
  "kernelspec": {
   "display_name": "Deno",
   "language": "typescript",
   "name": "deno"
  },
  "language_info": {
   "codemirror_mode": "typescript",
   "file_extension": ".ts",
   "mimetype": "text/x.typescript",
   "name": "typescript",
   "nbconvert_exporter": "script",
   "pygments_lexer": "typescript",
   "version": "5.4.5"
  }
 },
 "nbformat": 4,
 "nbformat_minor": 4
}
